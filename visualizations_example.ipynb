{
 "cells": [
  {
   "cell_type": "code",
   "execution_count": 11,
   "metadata": {
    "collapsed": true
   },
   "outputs": [],
   "source": [
    "from quantify_variability import mainStatisticsSummaryFile\n",
    "from visualizations import interactivePlotsBokeh\n",
    "#from quantify_variability import filterLowAndHighMean\n",
    "#from visualizations import exportBokehToFile, residualsToResiduals\n",
    "#from file_handler import readCsvFile\n",
    "\n",
    "# x-axis in the residual analysis\n",
    "RESIDUALS_X_AXIS = 'log₂(mean expression)'\n",
    "# Calculate residuals from polynomial where y-axis is:\n",
    "RESIDUALS_Y_AXIS = [\n",
    "                    'log₂(CV)',\n",
    "                    'log₂(top/bottom ratio)',\n",
    "                    'log₂(kurtosis)',\n",
    "                    'log₂(entropy)',\n",
    "                    'percent expressing'\n",
    "                    ]\n",
    "# Positive residual implies variability in: 'log₂(CV)', 'log₂(top/bottom ratio)', 'log₂(kurtosis)'\n",
    "# Negative residual implies variability in: 'log₂(entropy)', 'percent expressing'\n",
    "FIT_PER_DILUTION = False\n",
    "# Calculate the residuals from different fit for each channel\n",
    "# Transform the y values of non A488 channels, such that their polynomials will be same like A488\n",
    "FIT_PER_CHANNEL = True\n",
    "NORMALIZE_CHANNEL_FITS = True\n",
    "# Calculate x-axis and y-axis mean for each OD\n",
    "# Produce polynomial for each OD\n",
    "AVG_GENES_BY_OD = False\n",
    "FIT_PER_OD = False\n",
    "# Confidence interval for the polynomial fits. Equals to (1 - alpha)\n",
    "ALPHA = 0.05\n",
    "POLYNOMIAL_DEGREES = {\n",
    "                      'log₂(CV)':              2,\n",
    "                      'log₂(top/bottom ratio)':3,\n",
    "                      'log₂(kurtosis)':        2,\n",
    "                      'log₂(entropy)':         2,\n",
    "                      'percent expressing':   -1\n",
    "                      }\n",
    "# Point parameters\n",
    "POINT_COLOR = 'black'\n",
    "POINT_SHAPE = 'circle'\n",
    "POINT_SIZE = 3.5\n",
    "POINT_TRANSPARENCY = 0.25\n",
    "# Perimeter parameters\n",
    "POINT_PERIMETER_TRANSPARENCY = 0.5\n",
    "POINT_PERIMETER_COLOR = 'black'\n",
    "POINT_PERIMETER_WIDTH = 0.05\n",
    "# Curve parameters\n",
    "FIT_CURVE_COLOR = 'red'\n",
    "CONFIDENCE_BAND_TRANSPARENCY = 0.15\n",
    "CONFIDENCE_BAND_COLOR = 'red'\n",
    "# Limits\n",
    "X_LIMITS = {'log₂(CV)':               (-8, 15),\n",
    "            'log₂(top/bottom ratio)': (-8, 15),\n",
    "            'log₂(kurtosis)':         (-8, 15),\n",
    "            'log₂(entropy)':          (-8, 15),\n",
    "            'percent expressing':     (-8, 15)\n",
    "            }\n",
    "Y_LIMITS = {'log₂(CV)':               (-4, 7.5),\n",
    "            'log₂(top/bottom ratio)': (-2.5, 7.5),\n",
    "            'log₂(kurtosis)':         (-5.5, 13),\n",
    "            'log₂(entropy)':          (-8.5, 4.0),\n",
    "            'percent expressing':     (-15, 135)\n",
    "            }\n",
    "# Genes to mark\n",
    "SPECIAL_GENE_COLORS = {\n",
    "                        }\n",
    "SPECIAL_GENE_SHAPES = {\n",
    "                        }\n",
    "SPECIAL_GENE_SIZES = {\n",
    "                        }"
   ]
  },
  {
   "cell_type": "code",
   "execution_count": 12,
   "outputs": [
    {
     "name": "stdout",
     "output_type": "stream",
     "text": [
      "Loading main statistics summary...\n",
      "Statistics summary loaded.\n"
     ]
    }
   ],
   "source": [
    "# Load statistics_summary.csv file\n",
    "summary_table = mainStatisticsSummaryFile(load_file=True)"
   ],
   "metadata": {
    "collapsed": false
   }
  },
  {
   "cell_type": "code",
   "execution_count": 13,
   "outputs": [
    {
     "name": "stdout",
     "output_type": "stream",
     "text": [
      "\n",
      "polynomial coefficients with log₂(CV) as y axis:\n",
      "Intercept         2.577896\n",
      "np.power(x, 1)   -0.452918\n",
      "np.power(x, 2)    0.004775\n",
      "dtype: float64 \n",
      "\n",
      "\n",
      "polynomial coefficients with log₂(top/bottom ratio) as y axis:\n",
      "Intercept         1.851462\n",
      "np.power(x, 1)    0.225614\n",
      "np.power(x, 2)   -0.004415\n",
      "np.power(x, 3)    0.000246\n",
      "dtype: float64 \n",
      "\n",
      "\n",
      "polynomial coefficients with log₂(kurtosis) as y axis:\n",
      "Intercept         6.180566\n",
      "np.power(x, 1)   -0.722616\n",
      "np.power(x, 2)    0.014661\n",
      "dtype: float64 \n",
      "\n",
      "\n",
      "polynomial coefficients with log₂(entropy) as y axis:\n",
      "Intercept        -1.451812\n",
      "np.power(x, 1)    0.794527\n",
      "np.power(x, 2)   -0.034498\n",
      "dtype: float64 \n",
      "\n",
      "\n",
      "polynomial coefficients with percent expressing as y axis:\n"
     ]
    }
   ],
   "source": [
    "plots = interactivePlotsBokeh(summary_table, RESIDUALS_X_AXIS, RESIDUALS_Y_AXIS, ALPHA, FIT_PER_CHANNEL, POLYNOMIAL_DEGREES, NORMALIZE_CHANNEL_FITS,\n",
    "                      POINT_COLOR, POINT_SIZE, POINT_TRANSPARENCY, FIT_CURVE_COLOR, CONFIDENCE_BAND_TRANSPARENCY, CONFIDENCE_BAND_COLOR, POINT_PERIMETER_COLOR,\n",
    "                                     POINT_PERIMETER_TRANSPARENCY, POINT_PERIMETER_WIDTH, X_LIMITS, Y_LIMITS, SPECIAL_GENE_COLORS, POINT_SHAPE,SPECIAL_GENE_SHAPES, SPECIAL_GENE_SIZES, FIT_PER_DILUTION, AVG_GENES_BY_OD, FIT_PER_OD)"
   ],
   "metadata": {
    "collapsed": false
   }
  },
  {
   "cell_type": "code",
   "execution_count": 14,
   "outputs": [],
   "source": [
    "# Dependencies: conda install selenium geckodriver -c conda-forge\n",
    "#exportBokehToFile(plots, file_name='plot', file_type='svg')"
   ],
   "metadata": {
    "collapsed": false
   }
  },
  {
   "cell_type": "code",
   "execution_count": 15,
   "outputs": [],
   "source": [
    "# Residuals to residuals pair plots for metrics\n",
    "#variability_score = readCsvFile('standardized_residuals.csv')\n",
    "#residualsToResiduals(variability_score, RESIDUALS_Y_AXIS, POINT_SIZE, POINT_COLOR, POINT_TRANSPARENCY)"
   ],
   "metadata": {
    "collapsed": false
   }
  }
 ],
 "metadata": {
  "kernelspec": {
   "display_name": "Python 3",
   "language": "python",
   "name": "python3"
  },
  "language_info": {
   "codemirror_mode": {
    "name": "ipython",
    "version": 2
   },
   "file_extension": ".py",
   "mimetype": "text/x-python",
   "name": "python",
   "nbconvert_exporter": "python",
   "pygments_lexer": "ipython2",
   "version": "2.7.6"
  }
 },
 "nbformat": 4,
 "nbformat_minor": 0
}
