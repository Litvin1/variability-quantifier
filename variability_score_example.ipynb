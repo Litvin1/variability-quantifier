{
 "cells": [
  {
   "cell_type": "code",
   "execution_count": 1,
   "metadata": {
    "collapsed": true
   },
   "outputs": [],
   "source": [
    "import time\n",
    "\n",
    "import numpy as np\n",
    "\n",
    "from file_handler import readTxtFile, readXlsFile\n",
    "from quantify_variability import excludeGenes, mainStatisticsSummaryFile, mergeGenesWithChannels, calculateVariabilityScores, unifyMetricsNormalizeAndProduceSingleScore\n",
    "#from quantify_variability import filterLowAndHighMean\n",
    "\n",
    "# Cell by gene file or files folder location\n",
    "NORMALIZED_DATA_PATH = r\"Z:\\danielda\\analysis\\zp_p2f_auto_240924\\analysis\\variability-quantifier\\p2f\"\n",
    "# Genes to readouts and channels folder\n",
    "CHANNELS_FILE_PATH = r\"Z:\\danielda\\analysis\\zp_p2f_auto_240924\\analysis\\variability-quantifier\\p2f\\gene_lists\"\n",
    "# This is the first gene column in the cell by gene file (6 for par-seq, 7 for par²-seq because of additional \"library\" column)\n",
    "GENE_FIRST_COL = 7\n",
    "# Split per dilution of the culture\n",
    "SPLIT_PER_DILUTION = False\n",
    "# par-seq: False and empty list of control genes. par²-seq: True or False, filled list\n",
    "CONTROL_PER_LIBRARY = False\n",
    "# All genes that has a \"gene_class\" in \"genes_to_readouts\" files. Use if you want them to be for each library separately\n",
    "CONTROL_GENES_ETC = ['ackA2probes', 'cre', 'pro', 'dbn', 'dnaA_A647', 'dnaA_A550', 'dnaA_A488', 'tRNA', 'tmRNA', '6S_ncRNA', '23S_rRNA', '5S_ncRNA', 'pre_16s', 'fimA', 'slp', 'rpsC', 'rpoS', 'recA', 'ackA', 'gadB', 'cheA', 'fliC']\n",
    "# If par and not par^2, use empty list\n",
    "#CONTROL_GENES_ETC = []\n",
    "# Assign True if there is already \"statistics_summary.csv\" file in your directory\n",
    "LOAD_FILE = True\n",
    "# List of genes to exclude from analysis. this includes control genes etc.\n",
    "#GENES_TO_EXCLUDE = ['cre', 'pro', 'dbn', 'exaB', 'katB', 'pvdQ', 'pqsC', 'algD', 'pscQ', 'PA3281', 'pscF', 'PA1697', 'thyA', 'PA1697', 'PA0485', 'pelA', 'pgi', 'lecA', 'chiC', 'ambB', 'rbsK', 'ampR', 'xcpP', 'exsC']\n",
    "GENES_TO_EXCLUDE = []\n",
    "# Mean expression cutoff where genes below min and above max are filtered\n",
    "MIN_MEAN_EXPRESSION_THRESH_A488 = 2**-8\n",
    "MIN_MEAN_EXPRESSION_THRESH_A550 = 2**-8\n",
    "MIN_MEAN_EXPRESSION_THRESH_A647 = 2**-8\n",
    "MAX_MEAN_EXPRESSION_THRESH_A488 = 2**15\n",
    "MAX_MEAN_EXPRESSION_THRESH_A550 = 2**15\n",
    "MAX_MEAN_EXPRESSION_THRESH_A647 = 2**15\n",
    "CONSTRAINTS_PER_CHANNEL = {'A488': (MIN_MEAN_EXPRESSION_THRESH_A488, MAX_MEAN_EXPRESSION_THRESH_A488),\n",
    "                           'A550': (MIN_MEAN_EXPRESSION_THRESH_A550, MAX_MEAN_EXPRESSION_THRESH_A550),\n",
    "                           'A647': (MIN_MEAN_EXPRESSION_THRESH_A647, MAX_MEAN_EXPRESSION_THRESH_A647)}\n",
    "# If cell is expressing gene higher than this constant, this measurement is dropped\n",
    "SD_ABOVE_MEAN_THRESH = 100000\n",
    "# Genes that expressed by lower number of cells than this constant are filtered\n",
    "MINIMUM_CELLS_EXPRESSING = 0\n",
    "# Drop genes that are above this threshold\n",
    "MINIMUM_PROBES_PER_GENE = 2\n",
    "# x-axis in the residual analysis\n",
    "RESIDUALS_X_AXIS = 'log₂(mean expression)'\n",
    "# Calculate residuals from polynomial where y-axis is:\n",
    "RESIDUALS_Y_AXIS = ['log₂(CV)',\n",
    "                    'log₂(top/bottom ratio)',\n",
    "                    'log₂(kurtosis)',\n",
    "                    'log₂(entropy)',\n",
    "                    'percent expressing'\n",
    "                    ]\n",
    "# Size of the subpopulations in tails\n",
    "TOP_TO_BOTTOM_RATIO_TAIL = 0.05\n",
    "# Positive residual implies variability in: 'log₂(CV)', 'log₂(top/bottom ratio)', 'log₂(kurtosis)'\n",
    "# Negative residual implies variability in: 'log₂(entropy)', 'percent expressing'\n",
    "# Calculate the residuals from different fit for each channel\n",
    "FIT_PER_CHANNEL = True\n",
    "# Calculate residuals from the closest confidence interval\n",
    "ROBUST_RESIDUALS = True\n",
    "# Confidence interval for the polynomial fits. Equals to (1 - α)\n",
    "ALPHA = 0.05\n",
    "# For each metric - its own polynomial complexity\n",
    "POLYNOMIAL_DEGREES = {'log₂(CV)':              2,\n",
    "                      'log₂(top/bottom ratio)':3,\n",
    "                      'log₂(kurtosis)':        2,\n",
    "                      'log₂(entropy)':         2,\n",
    "                      'percent expressing':    -1}"
   ]
  },
  {
   "cell_type": "code",
   "execution_count": 2,
   "outputs": [
    {
     "name": "stdout",
     "output_type": "stream",
     "text": [
      "Loading cell by gene runtime: 4.379033803939819 seconds\n"
     ]
    }
   ],
   "source": [
    "# Load cell by gene file, normalized by probe number\n",
    "norm_data = readTxtFile(NORMALIZED_DATA_PATH, CONTROL_GENES_ETC, CONTROL_PER_LIBRARY)"
   ],
   "metadata": {
    "collapsed": false
   }
  },
  {
   "cell_type": "code",
   "execution_count": 3,
   "outputs": [
    {
     "name": "stdout",
     "output_type": "stream",
     "text": [
      "Loading genes list runtime: 1.094411849975586 seconds\n"
     ]
    }
   ],
   "source": [
    "# Load channels table, with columns: \"channel\" and \"gene_name\"\n",
    "channels_table = readXlsFile(CHANNELS_FILE_PATH, CONTROL_GENES_ETC, CONTROL_PER_LIBRARY)\n"
   ],
   "metadata": {
    "collapsed": false
   }
  },
  {
   "cell_type": "code",
   "execution_count": 4,
   "outputs": [],
   "source": [
    "excludeGenes(norm_data, GENES_TO_EXCLUDE)"
   ],
   "metadata": {
    "collapsed": false
   }
  },
  {
   "cell_type": "code",
   "execution_count": 5,
   "outputs": [
    {
     "name": "stdout",
     "output_type": "stream",
     "text": [
      "Loading main statistics summary...\n",
      "Statistics summary loaded.\n"
     ]
    }
   ],
   "source": [
    "# If statistics file exist, load it. if not, create it\n",
    "if LOAD_FILE:\n",
    "    summary_table = mainStatisticsSummaryFile(LOAD_FILE)\n",
    "else:\n",
    "    norm_data_channel = mergeGenesWithChannels(channels_table, norm_data, CONTROL_GENES_ETC, GENE_FIRST_COL,\n",
    "                                                   CONTROL_PER_LIBRARY, SPLIT_PER_DILUTION)\n",
    "    # If we want to create new file\n",
    "    summary_table = mainStatisticsSummaryFile(LOAD_FILE, norm_data_channel, GENE_FIRST_COL, SD_ABOVE_MEAN_THRESH,\n",
    "                                                  MINIMUM_CELLS_EXPRESSING, CONTROL_GENES_ETC,\n",
    "                                                  CONTROL_PER_LIBRARY, TOP_TO_BOTTOM_RATIO_TAIL, CONSTRAINTS_PER_CHANNEL, MINIMUM_PROBES_PER_GENE)"
   ],
   "metadata": {
    "collapsed": false
   }
  },
  {
   "cell_type": "code",
   "execution_count": 6,
   "outputs": [
    {
     "name": "stdout",
     "output_type": "stream",
     "text": [
      "\n",
      "Polynomial of degree 2 coefficients with log₂(CV) as y axis:\n",
      "Intercept         2.577896\n",
      "np.power(x, 1)   -0.452918\n",
      "np.power(x, 2)    0.004775\n",
      "dtype: float64\n",
      "\n",
      "Polynomial of degree 2 coefficients with log₂(CV) as y axis:\n",
      "Intercept         2.306757\n",
      "np.power(x, 1)   -0.432081\n",
      "np.power(x, 2)    0.003026\n",
      "dtype: float64\n",
      "\n",
      "Polynomial of degree 2 coefficients with log₂(CV) as y axis:\n",
      "Intercept         2.413450\n",
      "np.power(x, 1)   -0.433796\n",
      "np.power(x, 2)    0.002389\n",
      "dtype: float64\n",
      "\n",
      "Polynomial of degree 3 coefficients with log₂(top/bottom ratio) as y axis:\n",
      "Intercept         1.851462\n",
      "np.power(x, 1)    0.225614\n",
      "np.power(x, 2)   -0.004415\n",
      "np.power(x, 3)    0.000246\n",
      "dtype: float64\n",
      "\n",
      "Polynomial of degree 3 coefficients with log₂(top/bottom ratio) as y axis:\n",
      "Intercept         2.567746\n",
      "np.power(x, 1)    0.229095\n",
      "np.power(x, 2)   -0.009696\n",
      "np.power(x, 3)    0.000913\n",
      "dtype: float64\n",
      "\n",
      "Polynomial of degree 3 coefficients with log₂(top/bottom ratio) as y axis:\n",
      "Intercept         2.479219\n",
      "np.power(x, 1)    0.237008\n",
      "np.power(x, 2)   -0.007013\n",
      "np.power(x, 3)    0.000653\n",
      "dtype: float64\n",
      "\n",
      "Polynomial of degree 2 coefficients with log₂(kurtosis) as y axis:\n",
      "Intercept         6.180566\n",
      "np.power(x, 1)   -0.722616\n",
      "np.power(x, 2)    0.014661\n",
      "dtype: float64\n",
      "\n",
      "Polynomial of degree 2 coefficients with log₂(kurtosis) as y axis:\n",
      "Intercept         6.002572\n",
      "np.power(x, 1)   -0.667717\n",
      "np.power(x, 2)    0.004937\n",
      "dtype: float64\n",
      "\n",
      "Polynomial of degree 2 coefficients with log₂(kurtosis) as y axis:\n",
      "Intercept         6.116115\n",
      "np.power(x, 1)   -0.681459\n",
      "np.power(x, 2)    0.004591\n",
      "dtype: float64\n",
      "\n",
      "Polynomial of degree 2 coefficients with log₂(entropy) as y axis:\n",
      "Intercept        -1.451812\n",
      "np.power(x, 1)    0.794527\n",
      "np.power(x, 2)   -0.034498\n",
      "dtype: float64\n",
      "\n",
      "Polynomial of degree 2 coefficients with log₂(entropy) as y axis:\n",
      "Intercept        -0.801682\n",
      "np.power(x, 1)    0.732322\n",
      "np.power(x, 2)   -0.035547\n",
      "dtype: float64\n",
      "\n",
      "Polynomial of degree 2 coefficients with log₂(entropy) as y axis:\n",
      "Intercept        -1.012902\n",
      "np.power(x, 1)    0.750500\n",
      "np.power(x, 2)   -0.032445\n",
      "dtype: float64\n",
      "\n",
      "Polynomial of degree -1 coefficients with percent expressing as y axis:\n",
      "\n",
      "Polynomial of degree -1 coefficients with percent expressing as y axis:\n",
      "\n",
      "Polynomial of degree -1 coefficients with percent expressing as y axis:\n",
      "Calculating variability scores runtime: 0.7187998294830322\n"
     ]
    }
   ],
   "source": [
    "start_time = time.time()\n",
    "#summary_table = filterLowAndHighMean(summary_table, CONSTRAINTS_PER_CHANNEL)\n",
    "res_table = calculateVariabilityScores(summary_table, RESIDUALS_X_AXIS,                                                      RESIDUALS_Y_AXIS, FIT_PER_CHANNEL,\n",
    "                                       ROBUST_RESIDUALS, ALPHA, POLYNOMIAL_DEGREES)\n",
    "variability_score = unifyMetricsNormalizeAndProduceSingleScore(res_table, RESIDUALS_Y_AXIS)\n",
    "end_time = time.time()\n",
    "print('Calculating variability scores runtime:', end_time - start_time)"
   ],
   "metadata": {
    "collapsed": false
   }
  },
  {
   "cell_type": "code",
   "execution_count": 6,
   "outputs": [],
   "source": [],
   "metadata": {
    "collapsed": false
   }
  }
 ],
 "metadata": {
  "kernelspec": {
   "display_name": "Python 3",
   "language": "python",
   "name": "python3"
  },
  "language_info": {
   "codemirror_mode": {
    "name": "ipython",
    "version": 2
   },
   "file_extension": ".py",
   "mimetype": "text/x-python",
   "name": "python",
   "nbconvert_exporter": "python",
   "pygments_lexer": "ipython2",
   "version": "2.7.6"
  }
 },
 "nbformat": 4,
 "nbformat_minor": 0
}
